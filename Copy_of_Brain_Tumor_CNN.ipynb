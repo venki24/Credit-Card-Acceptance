{
  "nbformat": 4,
  "nbformat_minor": 0,
  "metadata": {
    "colab": {
      "name": "Copy of Brain Tumor CNN.ipynb",
      "provenance": [],
      "collapsed_sections": [],
      "include_colab_link": true
    },
    "kernelspec": {
      "name": "python3",
      "display_name": "Python 3"
    },
    "accelerator": "GPU"
  },
  "cells": [
    {
      "cell_type": "markdown",
      "metadata": {
        "id": "view-in-github",
        "colab_type": "text"
      },
      "source": [
        "<a href=\"https://colab.research.google.com/github/venki24/Credit-Card-Acceptance/blob/master/Copy_of_Brain_Tumor_CNN.ipynb\" target=\"_parent\"><img src=\"https://colab.research.google.com/assets/colab-badge.svg\" alt=\"Open In Colab\"/></a>"
      ]
    },
    {
      "cell_type": "code",
      "metadata": {
        "id": "3gqvnPrDFZmx",
        "colab_type": "code",
        "colab": {}
      },
      "source": [
        ""
      ],
      "execution_count": 0,
      "outputs": []
    },
    {
      "cell_type": "markdown",
      "metadata": {
        "id": "pJg96sUvaBN2",
        "colab_type": "text"
      },
      "source": [
        ""
      ]
    },
    {
      "cell_type": "code",
      "metadata": {
        "id": "y4iXr8TlFlSr",
        "colab_type": "code",
        "outputId": "51cbd9f8-05f4-4e47-da6b-b9e2dab9cb86",
        "colab": {
          "base_uri": "https://localhost:8080/",
          "height": 35
        }
      },
      "source": [
        "from google.colab import drive\n",
        "drive.mount('/content/drive')"
      ],
      "execution_count": 1,
      "outputs": [
        {
          "output_type": "stream",
          "text": [
            "Drive already mounted at /content/drive; to attempt to forcibly remount, call drive.mount(\"/content/drive\", force_remount=True).\n"
          ],
          "name": "stdout"
        }
      ]
    },
    {
      "cell_type": "code",
      "metadata": {
        "id": "ch2k55ClFoV-",
        "colab_type": "code",
        "colab": {
          "base_uri": "https://localhost:8080/",
          "height": 83
        },
        "outputId": "81793ae6-8831-40e9-fcd2-43fd151602a9"
      },
      "source": [
        "import keras \n",
        "from keras.models import Sequential\n",
        "from keras.layers import Dropout,Conv2D,Activation,MaxPool2D,Dense,Flatten,BatchNormalization,ZeroPadding2D\n",
        "from keras.optimizers import Adam,SGD,RMSprop\n",
        "from keras.preprocessing import image\n",
        "import warnings\n",
        "warnings.filterwarnings('ignore')"
      ],
      "execution_count": 2,
      "outputs": [
        {
          "output_type": "stream",
          "text": [
            "Using TensorFlow backend.\n"
          ],
          "name": "stderr"
        },
        {
          "output_type": "display_data",
          "data": {
            "text/html": [
              "<p style=\"color: red;\">\n",
              "The default version of TensorFlow in Colab will soon switch to TensorFlow 2.x.<br>\n",
              "We recommend you <a href=\"https://www.tensorflow.org/guide/migrate\" target=\"_blank\">upgrade</a> now \n",
              "or ensure your notebook will continue to use TensorFlow 1.x via the <code>%tensorflow_version 1.x</code> magic:\n",
              "<a href=\"https://colab.research.google.com/notebooks/tensorflow_version.ipynb\" target=\"_blank\">more info</a>.</p>\n"
            ],
            "text/plain": [
              "<IPython.core.display.HTML object>"
            ]
          },
          "metadata": {
            "tags": []
          }
        }
      ]
    },
    {
      "cell_type": "code",
      "metadata": {
        "id": "VBpPsdHFIUyO",
        "colab_type": "code",
        "colab": {}
      },
      "source": [
        "train_gen = image.ImageDataGenerator(rescale = 1./255,\n",
        "                                    featurewise_center=True, \n",
        "                                    samplewise_center=True, \n",
        "                                    featurewise_std_normalization=True, \n",
        "                                    samplewise_std_normalization=True, \n",
        "                                    zca_whitening=False, zca_epsilon=1e-06, \n",
        "                                    rotation_range=40, width_shift_range=0.0,\n",
        "                                    height_shift_range=0.0, brightness_range=(0.2, 0.2),\n",
        "                                    shear_range=0.2, zoom_range=0.2, \n",
        "                                    channel_shift_range=0.0, fill_mode='nearest', \n",
        "                                    cval=0.0, horizontal_flip=True, vertical_flip=True,\n",
        "                                    data_format=None, validation_split=0.0, dtype=None)\n",
        "test_gen = image.ImageDataGenerator(rescale = 1./255,\n",
        "                                    featurewise_center=True, \n",
        "                                    samplewise_center=True, \n",
        "                                    featurewise_std_normalization=True, \n",
        "                                    samplewise_std_normalization=True, \n",
        "                                    zca_whitening=False, zca_epsilon=1e-06, \n",
        "                                    rotation_range=40, width_shift_range=0.0,\n",
        "                                    height_shift_range=0.0, brightness_range=(0.2, 0.2),\n",
        "                                    shear_range=0.2, zoom_range=0.2, \n",
        "                                    channel_shift_range=0.0, fill_mode='nearest', \n",
        "                                    cval=0.0, horizontal_flip=True, vertical_flip=True,\n",
        "                                    data_format=None, validation_split=0.0, dtype=None)\n",
        "val_gen = image.ImageDataGenerator(rescale = 1./255,\n",
        "                                    featurewise_center=True, \n",
        "                                    samplewise_center=True, \n",
        "                                    featurewise_std_normalization=True, \n",
        "                                    samplewise_std_normalization=True, \n",
        "                                    zca_whitening=False, zca_epsilon=1e-06, \n",
        "                                    rotation_range=40, width_shift_range=0.0,\n",
        "                                    height_shift_range=0.0, brightness_range=(0.2, 0.2),\n",
        "                                    shear_range=0.2, zoom_range=0.2, \n",
        "                                    channel_shift_range=0.0, fill_mode='nearest', \n",
        "                                    cval=0.0, horizontal_flip=True, vertical_flip=True,\n",
        "                                    data_format=None, validation_split=0.0, dtype=None)"
      ],
      "execution_count": 0,
      "outputs": []
    },
    {
      "cell_type": "code",
      "metadata": {
        "id": "j_EvmKJ9I1uz",
        "colab_type": "code",
        "outputId": "5b4fa0d6-fc96-4fd7-ac0a-d54553584488",
        "colab": {
          "base_uri": "https://localhost:8080/",
          "height": 35
        }
      },
      "source": [
        "train_data=train_gen.flow_from_directory('/content/drive/My Drive/dataset/train',target_size=(32,32,), \n",
        "                                         class_mode='categorical',\n",
        "                                         classes=['glioma','meling','pitutary'],\n",
        "                                         batch_size=64,seed=1)"
      ],
      "execution_count": 4,
      "outputs": [
        {
          "output_type": "stream",
          "text": [
            "Found 3064 images belonging to 3 classes.\n"
          ],
          "name": "stdout"
        }
      ]
    },
    {
      "cell_type": "code",
      "metadata": {
        "id": "3tGeEihDJ0Q0",
        "colab_type": "code",
        "outputId": "ee0460c3-b7b2-479c-8afd-8ae0264c2b28",
        "colab": {
          "base_uri": "https://localhost:8080/",
          "height": 35
        }
      },
      "source": [
        "test_data=test_gen.flow_from_directory('/content/drive/My Drive/dataset/test',target_size=(32,32,), \n",
        "                                         class_mode='categorical',\n",
        "                                         classes=['glioma','meling','pitutary'],\n",
        "                                         batch_size=64,seed=1)"
      ],
      "execution_count": 5,
      "outputs": [
        {
          "output_type": "stream",
          "text": [
            "Found 2778 images belonging to 3 classes.\n"
          ],
          "name": "stdout"
        }
      ]
    },
    {
      "cell_type": "code",
      "metadata": {
        "id": "v0hjwmt7KBVv",
        "colab_type": "code",
        "outputId": "b7b99ab1-ad67-48ad-abd6-1e223b627df2",
        "colab": {
          "base_uri": "https://localhost:8080/",
          "height": 1000
        }
      },
      "source": [
        "#Model\n",
        "model = Sequential()\n",
        "\n",
        "#CONV1\n",
        "model.add(ZeroPadding2D(padding = (2, 2), input_shape= (32, 32, 3)))\n",
        "model.add(Conv2D(5, kernel_size=(3, 3), strides=(1, 1), padding='SAME',\n",
        "                 activation =  'relu'))\n",
        "model.add(MaxPool2D(pool_size=(2, 2), strides=(1, 1), padding = 'SAME'))\n",
        "model.add(BatchNormalization(axis = -1))\n",
        "model.add(Dropout(0.3))\n",
        "\n",
        "#CONV2\n",
        "model.add(ZeroPadding2D(padding = (2, 2)))\n",
        "model.add(Conv2D(5, kernel_size=(3, 3), strides=(1, 1), padding='SAME',\n",
        "                 activation =  'relu'))\n",
        "model.add(MaxPool2D(pool_size=(2, 2), strides=(1, 1), padding = 'SAME'))\n",
        "model.add(BatchNormalization(axis = -1))\n",
        "model.add(Dropout(0.3))\n",
        "\n",
        "#CONV3\n",
        "model.add(ZeroPadding2D(padding = (2, 2)))\n",
        "model.add(Conv2D(3, kernel_size=(2, 2), strides=(1, 1), padding='SAME',\n",
        "                 activation =  'relu'))\n",
        "model.add(MaxPool2D(pool_size=(2, 2), strides=(1, 1), padding = 'SAME'))\n",
        "model.add(BatchNormalization(axis = -1))\n",
        "model.add(Dropout(0.3))\n",
        "\n",
        "#CONV4\n",
        "model.add(ZeroPadding2D(padding = (2, 2)))\n",
        "model.add(Conv2D(3, kernel_size=(2, 2), strides=(1, 1), padding='SAME',\n",
        "                 activation =  'relu'))\n",
        "model.add(MaxPool2D(pool_size=(2, 2), strides=(1, 1), padding = 'SAME'))\n",
        "model.add(BatchNormalization(axis = -1))\n",
        "model.add(Dropout(0.2))\n",
        "\n",
        "#CONV5\n",
        "model.add(ZeroPadding2D(padding = (2, 2)))\n",
        "model.add(Conv2D(3, kernel_size=(2, 2), strides=(1, 1), padding='SAME',\n",
        "                 activation =  'relu'))\n",
        "model.add(MaxPool2D(pool_size=(2, 2), strides=(1, 1), padding = 'SAME'))\n",
        "model.add(BatchNormalization(axis = -1))\n",
        "model.add(Dropout(0.5))\n",
        "\n",
        "#FLATTEN\n",
        "model.add(Flatten())\n",
        "\n",
        "#Dense1\n",
        "model.add(Dense(128, activation='relu'))\n",
        "model.add(BatchNormalization(axis = -1))\n",
        "model.add(Dropout(0.2))\n",
        "\n",
        "#Dense2\n",
        "model.add(Dense(64, activation='relu'))\n",
        "model.add(BatchNormalization(axis = -1))\n",
        "model.add(Dropout(0.3))\n",
        "\n",
        "#Dense3\n",
        "model.add(Dense(32, activation='relu'))\n",
        "model.add(BatchNormalization(axis = -1))\n",
        "model.add(Dropout(0.5))\n",
        "\n",
        "#Dense4\n",
        "model.add(Dense(3, activation='sigmoid'))\n",
        "\n",
        "#model summary\n",
        "model.summary()\n",
        "\n",
        "#Optimizers\n",
        "Ad = Adam(lr = 0.01)\n",
        "#Compile Model\n",
        "model.compile(optimizer = Ad,\n",
        "              loss = 'categorical_crossentropy',\n",
        "              metrics=['accuracy'])"
      ],
      "execution_count": 6,
      "outputs": [
        {
          "output_type": "stream",
          "text": [
            "WARNING:tensorflow:From /usr/local/lib/python3.6/dist-packages/keras/backend/tensorflow_backend.py:66: The name tf.get_default_graph is deprecated. Please use tf.compat.v1.get_default_graph instead.\n",
            "\n",
            "WARNING:tensorflow:From /usr/local/lib/python3.6/dist-packages/keras/backend/tensorflow_backend.py:541: The name tf.placeholder is deprecated. Please use tf.compat.v1.placeholder instead.\n",
            "\n",
            "WARNING:tensorflow:From /usr/local/lib/python3.6/dist-packages/keras/backend/tensorflow_backend.py:4432: The name tf.random_uniform is deprecated. Please use tf.random.uniform instead.\n",
            "\n",
            "WARNING:tensorflow:From /usr/local/lib/python3.6/dist-packages/keras/backend/tensorflow_backend.py:4267: The name tf.nn.max_pool is deprecated. Please use tf.nn.max_pool2d instead.\n",
            "\n",
            "WARNING:tensorflow:From /usr/local/lib/python3.6/dist-packages/keras/backend/tensorflow_backend.py:190: The name tf.get_default_session is deprecated. Please use tf.compat.v1.get_default_session instead.\n",
            "\n",
            "WARNING:tensorflow:From /usr/local/lib/python3.6/dist-packages/keras/backend/tensorflow_backend.py:197: The name tf.ConfigProto is deprecated. Please use tf.compat.v1.ConfigProto instead.\n",
            "\n",
            "WARNING:tensorflow:From /usr/local/lib/python3.6/dist-packages/keras/backend/tensorflow_backend.py:203: The name tf.Session is deprecated. Please use tf.compat.v1.Session instead.\n",
            "\n",
            "WARNING:tensorflow:From /usr/local/lib/python3.6/dist-packages/keras/backend/tensorflow_backend.py:207: The name tf.global_variables is deprecated. Please use tf.compat.v1.global_variables instead.\n",
            "\n",
            "WARNING:tensorflow:From /usr/local/lib/python3.6/dist-packages/keras/backend/tensorflow_backend.py:216: The name tf.is_variable_initialized is deprecated. Please use tf.compat.v1.is_variable_initialized instead.\n",
            "\n",
            "WARNING:tensorflow:From /usr/local/lib/python3.6/dist-packages/keras/backend/tensorflow_backend.py:223: The name tf.variables_initializer is deprecated. Please use tf.compat.v1.variables_initializer instead.\n",
            "\n",
            "WARNING:tensorflow:From /usr/local/lib/python3.6/dist-packages/keras/backend/tensorflow_backend.py:2041: The name tf.nn.fused_batch_norm is deprecated. Please use tf.compat.v1.nn.fused_batch_norm instead.\n",
            "\n",
            "WARNING:tensorflow:From /usr/local/lib/python3.6/dist-packages/keras/backend/tensorflow_backend.py:148: The name tf.placeholder_with_default is deprecated. Please use tf.compat.v1.placeholder_with_default instead.\n",
            "\n",
            "WARNING:tensorflow:From /usr/local/lib/python3.6/dist-packages/keras/backend/tensorflow_backend.py:3733: calling dropout (from tensorflow.python.ops.nn_ops) with keep_prob is deprecated and will be removed in a future version.\n",
            "Instructions for updating:\n",
            "Please use `rate` instead of `keep_prob`. Rate should be set to `rate = 1 - keep_prob`.\n",
            "Model: \"sequential_1\"\n",
            "_________________________________________________________________\n",
            "Layer (type)                 Output Shape              Param #   \n",
            "=================================================================\n",
            "zero_padding2d_1 (ZeroPaddin (None, 36, 36, 3)         0         \n",
            "_________________________________________________________________\n",
            "conv2d_1 (Conv2D)            (None, 36, 36, 5)         140       \n",
            "_________________________________________________________________\n",
            "max_pooling2d_1 (MaxPooling2 (None, 36, 36, 5)         0         \n",
            "_________________________________________________________________\n",
            "batch_normalization_1 (Batch (None, 36, 36, 5)         20        \n",
            "_________________________________________________________________\n",
            "dropout_1 (Dropout)          (None, 36, 36, 5)         0         \n",
            "_________________________________________________________________\n",
            "zero_padding2d_2 (ZeroPaddin (None, 40, 40, 5)         0         \n",
            "_________________________________________________________________\n",
            "conv2d_2 (Conv2D)            (None, 40, 40, 5)         230       \n",
            "_________________________________________________________________\n",
            "max_pooling2d_2 (MaxPooling2 (None, 40, 40, 5)         0         \n",
            "_________________________________________________________________\n",
            "batch_normalization_2 (Batch (None, 40, 40, 5)         20        \n",
            "_________________________________________________________________\n",
            "dropout_2 (Dropout)          (None, 40, 40, 5)         0         \n",
            "_________________________________________________________________\n",
            "zero_padding2d_3 (ZeroPaddin (None, 44, 44, 5)         0         \n",
            "_________________________________________________________________\n",
            "conv2d_3 (Conv2D)            (None, 44, 44, 3)         63        \n",
            "_________________________________________________________________\n",
            "max_pooling2d_3 (MaxPooling2 (None, 44, 44, 3)         0         \n",
            "_________________________________________________________________\n",
            "batch_normalization_3 (Batch (None, 44, 44, 3)         12        \n",
            "_________________________________________________________________\n",
            "dropout_3 (Dropout)          (None, 44, 44, 3)         0         \n",
            "_________________________________________________________________\n",
            "zero_padding2d_4 (ZeroPaddin (None, 48, 48, 3)         0         \n",
            "_________________________________________________________________\n",
            "conv2d_4 (Conv2D)            (None, 48, 48, 3)         39        \n",
            "_________________________________________________________________\n",
            "max_pooling2d_4 (MaxPooling2 (None, 48, 48, 3)         0         \n",
            "_________________________________________________________________\n",
            "batch_normalization_4 (Batch (None, 48, 48, 3)         12        \n",
            "_________________________________________________________________\n",
            "dropout_4 (Dropout)          (None, 48, 48, 3)         0         \n",
            "_________________________________________________________________\n",
            "zero_padding2d_5 (ZeroPaddin (None, 52, 52, 3)         0         \n",
            "_________________________________________________________________\n",
            "conv2d_5 (Conv2D)            (None, 52, 52, 3)         39        \n",
            "_________________________________________________________________\n",
            "max_pooling2d_5 (MaxPooling2 (None, 52, 52, 3)         0         \n",
            "_________________________________________________________________\n",
            "batch_normalization_5 (Batch (None, 52, 52, 3)         12        \n",
            "_________________________________________________________________\n",
            "dropout_5 (Dropout)          (None, 52, 52, 3)         0         \n",
            "_________________________________________________________________\n",
            "flatten_1 (Flatten)          (None, 8112)              0         \n",
            "_________________________________________________________________\n",
            "dense_1 (Dense)              (None, 128)               1038464   \n",
            "_________________________________________________________________\n",
            "batch_normalization_6 (Batch (None, 128)               512       \n",
            "_________________________________________________________________\n",
            "dropout_6 (Dropout)          (None, 128)               0         \n",
            "_________________________________________________________________\n",
            "dense_2 (Dense)              (None, 64)                8256      \n",
            "_________________________________________________________________\n",
            "batch_normalization_7 (Batch (None, 64)                256       \n",
            "_________________________________________________________________\n",
            "dropout_7 (Dropout)          (None, 64)                0         \n",
            "_________________________________________________________________\n",
            "dense_3 (Dense)              (None, 32)                2080      \n",
            "_________________________________________________________________\n",
            "batch_normalization_8 (Batch (None, 32)                128       \n",
            "_________________________________________________________________\n",
            "dropout_8 (Dropout)          (None, 32)                0         \n",
            "_________________________________________________________________\n",
            "dense_4 (Dense)              (None, 3)                 99        \n",
            "=================================================================\n",
            "Total params: 1,050,382\n",
            "Trainable params: 1,049,896\n",
            "Non-trainable params: 486\n",
            "_________________________________________________________________\n",
            "WARNING:tensorflow:From /usr/local/lib/python3.6/dist-packages/keras/optimizers.py:793: The name tf.train.Optimizer is deprecated. Please use tf.compat.v1.train.Optimizer instead.\n",
            "\n",
            "WARNING:tensorflow:From /usr/local/lib/python3.6/dist-packages/keras/backend/tensorflow_backend.py:3576: The name tf.log is deprecated. Please use tf.math.log instead.\n",
            "\n"
          ],
          "name": "stdout"
        }
      ]
    },
    {
      "cell_type": "markdown",
      "metadata": {
        "id": "FpHuigayUswV",
        "colab_type": "text"
      },
      "source": [
        ""
      ]
    },
    {
      "cell_type": "code",
      "metadata": {
        "id": "pmUxKmIiKQUr",
        "colab_type": "code",
        "outputId": "f0ea8c45-496a-4ef6-f837-257747388d36",
        "colab": {
          "base_uri": "https://localhost:8080/",
          "height": 201
        }
      },
      "source": [
        "model.fit_generator(train_data, validation_data=test_data,\n",
        "                    epochs=500)"
      ],
      "execution_count": 0,
      "outputs": [
        {
          "output_type": "stream",
          "text": [
            "WARNING:tensorflow:From /usr/local/lib/python3.6/dist-packages/tensorflow_core/python/ops/math_grad.py:1424: where (from tensorflow.python.ops.array_ops) is deprecated and will be removed in a future version.\n",
            "Instructions for updating:\n",
            "Use tf.where in 2.0, which has the same broadcast rule as np.where\n",
            "WARNING:tensorflow:From /usr/local/lib/python3.6/dist-packages/keras/backend/tensorflow_backend.py:1033: The name tf.assign_add is deprecated. Please use tf.compat.v1.assign_add instead.\n",
            "\n",
            "WARNING:tensorflow:From /usr/local/lib/python3.6/dist-packages/keras/backend/tensorflow_backend.py:1020: The name tf.assign is deprecated. Please use tf.compat.v1.assign instead.\n",
            "\n",
            "Epoch 1/500\n",
            " 9/48 [====>.........................] - ETA: 25:46 - loss: 1.1503 - acc: 0.4358"
          ],
          "name": "stdout"
        }
      ]
    },
    {
      "cell_type": "code",
      "metadata": {
        "id": "D2lJiacyKiV2",
        "colab_type": "code",
        "colab": {}
      },
      "source": [
        ""
      ],
      "execution_count": 0,
      "outputs": []
    }
  ]
}