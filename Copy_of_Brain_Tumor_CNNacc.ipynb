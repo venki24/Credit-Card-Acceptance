{
  "nbformat": 4,
  "nbformat_minor": 0,
  "metadata": {
    "colab": {
      "name": "Copy of Brain Tumor CNN.ipynb",
      "provenance": [],
      "collapsed_sections": [],
      "include_colab_link": true
    },
    "kernelspec": {
      "name": "python3",
      "display_name": "Python 3"
    },
    "accelerator": "GPU"
  },
  "cells": [
    {
      "cell_type": "markdown",
      "metadata": {
        "id": "view-in-github",
        "colab_type": "text"
      },
      "source": [
        "<a href=\"https://colab.research.google.com/github/venki24/Credit-Card-Acceptance/blob/master/Copy_of_Brain_Tumor_CNNacc.ipynb\" target=\"_parent\"><img src=\"https://colab.research.google.com/assets/colab-badge.svg\" alt=\"Open In Colab\"/></a>"
      ]
    },
    {
      "cell_type": "code",
      "metadata": {
        "id": "3gqvnPrDFZmx",
        "colab_type": "code",
        "outputId": "6458744f-e0c6-460e-df63-e5f21d49d72a",
        "colab": {
          "base_uri": "https://localhost:8080/",
          "height": 83
        }
      },
      "source": [
        "import tensorflow as tf\n",
        "tf.test.gpu_device_name()"
      ],
      "execution_count": 1,
      "outputs": [
        {
          "output_type": "display_data",
          "data": {
            "text/html": [
              "<p style=\"color: red;\">\n",
              "The default version of TensorFlow in Colab will soon switch to TensorFlow 2.x.<br>\n",
              "We recommend you <a href=\"https://www.tensorflow.org/guide/migrate\" target=\"_blank\">upgrade</a> now \n",
              "or ensure your notebook will continue to use TensorFlow 1.x via the <code>%tensorflow_version 1.x</code> magic:\n",
              "<a href=\"https://colab.research.google.com/notebooks/tensorflow_version.ipynb\" target=\"_blank\">more info</a>.</p>\n"
            ],
            "text/plain": [
              "<IPython.core.display.HTML object>"
            ]
          },
          "metadata": {
            "tags": []
          }
        },
        {
          "output_type": "execute_result",
          "data": {
            "text/plain": [
              "'/device:GPU:0'"
            ]
          },
          "metadata": {
            "tags": []
          },
          "execution_count": 1
        }
      ]
    },
    {
      "cell_type": "code",
      "metadata": {
        "id": "y4iXr8TlFlSr",
        "colab_type": "code",
        "colab": {
          "base_uri": "https://localhost:8080/",
          "height": 35
        },
        "outputId": "96670f35-1d5a-4ce4-f5cf-e8d8236237f3"
      },
      "source": [
        "from google.colab import drive\n",
        "drive.mount('/content/drive')"
      ],
      "execution_count": 2,
      "outputs": [
        {
          "output_type": "stream",
          "text": [
            "Drive already mounted at /content/drive; to attempt to forcibly remount, call drive.mount(\"/content/drive\", force_remount=True).\n"
          ],
          "name": "stdout"
        }
      ]
    },
    {
      "cell_type": "code",
      "metadata": {
        "id": "ch2k55ClFoV-",
        "colab_type": "code",
        "outputId": "e736cbe3-dade-4986-fc50-8d1158b1319f",
        "colab": {
          "base_uri": "https://localhost:8080/",
          "height": 35
        }
      },
      "source": [
        "import keras \n",
        "from keras.models import Sequential\n",
        "from keras.layers import Dropout,Conv2D,Activation,MaxPool2D,Dense,Flatten,BatchNormalization,ZeroPadding2D\n",
        "from keras.optimizers import Adam,SGD,RMSprop\n",
        "from keras.preprocessing import image\n",
        "import warnings\n",
        "warnings.filterwarnings('ignore')"
      ],
      "execution_count": 3,
      "outputs": [
        {
          "output_type": "stream",
          "text": [
            "Using TensorFlow backend.\n"
          ],
          "name": "stderr"
        }
      ]
    },
    {
      "cell_type": "code",
      "metadata": {
        "id": "VBpPsdHFIUyO",
        "colab_type": "code",
        "colab": {}
      },
      "source": [
        "train_gen = image.ImageDataGenerator(rescale = 1./255,\n",
        "                                    featurewise_center=True, \n",
        "                                    samplewise_center=True, \n",
        "                                    featurewise_std_normalization=True, \n",
        "                                    samplewise_std_normalization=True, \n",
        "                                    zca_whitening=False, zca_epsilon=1e-06, \n",
        "                                    rotation_range=40, width_shift_range=0.0,\n",
        "                                    height_shift_range=0.0, brightness_range=(0.2, 0.2),\n",
        "                                    shear_range=0.2, zoom_range=0.2, \n",
        "                                    channel_shift_range=0.0, fill_mode='nearest', \n",
        "                                    cval=0.0, horizontal_flip=True, vertical_flip=True,\n",
        "                                    data_format=None, validation_split=0.0, dtype=None)\n",
        "test_gen = image.ImageDataGenerator(rescale = 1./255,\n",
        "                                    featurewise_center=True, \n",
        "                                    samplewise_center=True, \n",
        "                                    featurewise_std_normalization=True, \n",
        "                                    samplewise_std_normalization=True, \n",
        "                                    zca_whitening=False, zca_epsilon=1e-06, \n",
        "                                    rotation_range=40, width_shift_range=0.0,\n",
        "                                    height_shift_range=0.0, brightness_range=(0.2, 0.2),\n",
        "                                    shear_range=0.2, zoom_range=0.2, \n",
        "                                    channel_shift_range=0.0, fill_mode='nearest', \n",
        "                                    cval=0.0, horizontal_flip=True, vertical_flip=True,\n",
        "                                    data_format=None, validation_split=0.0, dtype=None)\n",
        "val_gen = image.ImageDataGenerator(rescale = 1./255,\n",
        "                                    featurewise_center=True, \n",
        "                                    samplewise_center=True, \n",
        "                                    featurewise_std_normalization=True, \n",
        "                                    samplewise_std_normalization=True, \n",
        "                                    zca_whitening=False, zca_epsilon=1e-06, \n",
        "                                    rotation_range=40, width_shift_range=0.0,\n",
        "                                    height_shift_range=0.0, brightness_range=(0.2, 0.2),\n",
        "                                    shear_range=0.2, zoom_range=0.2, \n",
        "                                    channel_shift_range=0.0, fill_mode='nearest', \n",
        "                                    cval=0.0, horizontal_flip=True, vertical_flip=True,\n",
        "                                    data_format=None, validation_split=0.0, dtype=None)"
      ],
      "execution_count": 0,
      "outputs": []
    },
    {
      "cell_type": "code",
      "metadata": {
        "id": "j_EvmKJ9I1uz",
        "colab_type": "code",
        "outputId": "586567ad-27c9-44ab-cf37-01f3d55b65fa",
        "colab": {
          "base_uri": "https://localhost:8080/",
          "height": 35
        }
      },
      "source": [
        "train_data=train_gen.flow_from_directory('/content/drive/My Drive/dataset/train',target_size=(32,32,), \n",
        "                                         class_mode='categorical',\n",
        "                                         classes=['glioma','meling','pitutary'],\n",
        "                                         batch_size=64,seed=1)"
      ],
      "execution_count": 5,
      "outputs": [
        {
          "output_type": "stream",
          "text": [
            "Found 3064 images belonging to 3 classes.\n"
          ],
          "name": "stdout"
        }
      ]
    },
    {
      "cell_type": "code",
      "metadata": {
        "id": "3tGeEihDJ0Q0",
        "colab_type": "code",
        "outputId": "ee1531de-bac2-4310-e2ee-5b588545ec83",
        "colab": {
          "base_uri": "https://localhost:8080/",
          "height": 35
        }
      },
      "source": [
        "test_data=test_gen.flow_from_directory('/content/drive/My Drive/dataset/test',target_size=(32,32,), \n",
        "                                         class_mode='categorical',\n",
        "                                         classes=['glioma','meling','pitutary'],\n",
        "                                         batch_size=64,seed=1)"
      ],
      "execution_count": 6,
      "outputs": [
        {
          "output_type": "stream",
          "text": [
            "Found 2154 images belonging to 3 classes.\n"
          ],
          "name": "stdout"
        }
      ]
    },
    {
      "cell_type": "code",
      "metadata": {
        "id": "v0hjwmt7KBVv",
        "colab_type": "code",
        "outputId": "cb9c1544-9413-43d0-9f28-e9705e27a6c2",
        "colab": {
          "base_uri": "https://localhost:8080/",
          "height": 1000
        }
      },
      "source": [
        "#Model\n",
        "model = Sequential()\n",
        "\n",
        "#CONV1\n",
        "model.add(ZeroPadding2D(padding = (2, 2), input_shape= (32, 32, 3)))\n",
        "model.add(Conv2D(5, kernel_size=(3, 3), strides=(1, 1), padding='SAME',\n",
        "                 activation =  'relu'))\n",
        "model.add(MaxPool2D(pool_size=(2, 2), strides=(1, 1), padding = 'SAME'))\n",
        "model.add(BatchNormalization(axis = -1))\n",
        "model.add(Dropout(0.3))\n",
        "\n",
        "#CONV2\n",
        "model.add(ZeroPadding2D(padding = (2, 2)))\n",
        "model.add(Conv2D(5, kernel_size=(3, 3), strides=(1, 1), padding='SAME',\n",
        "                 activation =  'relu'))\n",
        "model.add(MaxPool2D(pool_size=(2, 2), strides=(1, 1), padding = 'SAME'))\n",
        "model.add(BatchNormalization(axis = -1))\n",
        "model.add(Dropout(0.3))\n",
        "\n",
        "#CONV3\n",
        "model.add(ZeroPadding2D(padding = (2, 2)))\n",
        "model.add(Conv2D(3, kernel_size=(2, 2), strides=(1, 1), padding='SAME',\n",
        "                 activation =  'relu'))\n",
        "model.add(MaxPool2D(pool_size=(2, 2), strides=(1, 1), padding = 'SAME'))\n",
        "model.add(BatchNormalization(axis = -1))\n",
        "model.add(Dropout(0.3))\n",
        "\n",
        "#CONV4\n",
        "model.add(ZeroPadding2D(padding = (2, 2)))\n",
        "model.add(Conv2D(3, kernel_size=(2, 2), strides=(1, 1), padding='SAME',\n",
        "                 activation =  'relu'))\n",
        "model.add(MaxPool2D(pool_size=(2, 2), strides=(1, 1), padding = 'SAME'))\n",
        "model.add(BatchNormalization(axis = -1))\n",
        "model.add(Dropout(0.2))\n",
        "\n",
        "#CONV5\n",
        "model.add(ZeroPadding2D(padding = (2, 2)))\n",
        "model.add(Conv2D(3, kernel_size=(2, 2), strides=(1, 1), padding='SAME',\n",
        "                 activation =  'relu'))\n",
        "model.add(MaxPool2D(pool_size=(2, 2), strides=(1, 1), padding = 'SAME'))\n",
        "model.add(BatchNormalization(axis = -1))\n",
        "model.add(Dropout(0.5))\n",
        "\n",
        "#FLATTEN\n",
        "model.add(Flatten())\n",
        "\n",
        "#Dense1\n",
        "model.add(Dense(128, activation='relu'))\n",
        "model.add(BatchNormalization(axis = -1))\n",
        "model.add(Dropout(0.2))\n",
        "\n",
        "#Dense2\n",
        "model.add(Dense(64, activation='relu'))\n",
        "model.add(BatchNormalization(axis = -1))\n",
        "model.add(Dropout(0.3))\n",
        "\n",
        "#Dense3\n",
        "model.add(Dense(32, activation='relu'))\n",
        "model.add(BatchNormalization(axis = -1))\n",
        "model.add(Dropout(0.5))\n",
        "\n",
        "#Dense4\n",
        "model.add(Dense(3, activation='sigmoid'))\n",
        "\n",
        "#model summary\n",
        "model.summary()\n",
        "\n",
        "#Optimizers\n",
        "#Ad = Adam(lr = 0.01)\n",
        "#Compile Model\n",
        "model.compile(optimizer = 'adam',\n",
        "              loss = 'categorical_crossentropy',\n",
        "              metrics=['accuracy'])"
      ],
      "execution_count": 15,
      "outputs": [
        {
          "output_type": "stream",
          "text": [
            "Model: \"sequential_2\"\n",
            "_________________________________________________________________\n",
            "Layer (type)                 Output Shape              Param #   \n",
            "=================================================================\n",
            "zero_padding2d_6 (ZeroPaddin (None, 36, 36, 3)         0         \n",
            "_________________________________________________________________\n",
            "conv2d_6 (Conv2D)            (None, 36, 36, 5)         140       \n",
            "_________________________________________________________________\n",
            "max_pooling2d_6 (MaxPooling2 (None, 36, 36, 5)         0         \n",
            "_________________________________________________________________\n",
            "batch_normalization_9 (Batch (None, 36, 36, 5)         20        \n",
            "_________________________________________________________________\n",
            "dropout_9 (Dropout)          (None, 36, 36, 5)         0         \n",
            "_________________________________________________________________\n",
            "zero_padding2d_7 (ZeroPaddin (None, 40, 40, 5)         0         \n",
            "_________________________________________________________________\n",
            "conv2d_7 (Conv2D)            (None, 40, 40, 5)         230       \n",
            "_________________________________________________________________\n",
            "max_pooling2d_7 (MaxPooling2 (None, 40, 40, 5)         0         \n",
            "_________________________________________________________________\n",
            "batch_normalization_10 (Batc (None, 40, 40, 5)         20        \n",
            "_________________________________________________________________\n",
            "dropout_10 (Dropout)         (None, 40, 40, 5)         0         \n",
            "_________________________________________________________________\n",
            "zero_padding2d_8 (ZeroPaddin (None, 44, 44, 5)         0         \n",
            "_________________________________________________________________\n",
            "conv2d_8 (Conv2D)            (None, 44, 44, 3)         63        \n",
            "_________________________________________________________________\n",
            "max_pooling2d_8 (MaxPooling2 (None, 44, 44, 3)         0         \n",
            "_________________________________________________________________\n",
            "batch_normalization_11 (Batc (None, 44, 44, 3)         12        \n",
            "_________________________________________________________________\n",
            "dropout_11 (Dropout)         (None, 44, 44, 3)         0         \n",
            "_________________________________________________________________\n",
            "zero_padding2d_9 (ZeroPaddin (None, 48, 48, 3)         0         \n",
            "_________________________________________________________________\n",
            "conv2d_9 (Conv2D)            (None, 48, 48, 3)         39        \n",
            "_________________________________________________________________\n",
            "max_pooling2d_9 (MaxPooling2 (None, 48, 48, 3)         0         \n",
            "_________________________________________________________________\n",
            "batch_normalization_12 (Batc (None, 48, 48, 3)         12        \n",
            "_________________________________________________________________\n",
            "dropout_12 (Dropout)         (None, 48, 48, 3)         0         \n",
            "_________________________________________________________________\n",
            "zero_padding2d_10 (ZeroPaddi (None, 52, 52, 3)         0         \n",
            "_________________________________________________________________\n",
            "conv2d_10 (Conv2D)           (None, 52, 52, 3)         39        \n",
            "_________________________________________________________________\n",
            "max_pooling2d_10 (MaxPooling (None, 52, 52, 3)         0         \n",
            "_________________________________________________________________\n",
            "batch_normalization_13 (Batc (None, 52, 52, 3)         12        \n",
            "_________________________________________________________________\n",
            "dropout_13 (Dropout)         (None, 52, 52, 3)         0         \n",
            "_________________________________________________________________\n",
            "flatten_2 (Flatten)          (None, 8112)              0         \n",
            "_________________________________________________________________\n",
            "dense_5 (Dense)              (None, 128)               1038464   \n",
            "_________________________________________________________________\n",
            "batch_normalization_14 (Batc (None, 128)               512       \n",
            "_________________________________________________________________\n",
            "dropout_14 (Dropout)         (None, 128)               0         \n",
            "_________________________________________________________________\n",
            "dense_6 (Dense)              (None, 64)                8256      \n",
            "_________________________________________________________________\n",
            "batch_normalization_15 (Batc (None, 64)                256       \n",
            "_________________________________________________________________\n",
            "dropout_15 (Dropout)         (None, 64)                0         \n",
            "_________________________________________________________________\n",
            "dense_7 (Dense)              (None, 32)                2080      \n",
            "_________________________________________________________________\n",
            "batch_normalization_16 (Batc (None, 32)                128       \n",
            "_________________________________________________________________\n",
            "dropout_16 (Dropout)         (None, 32)                0         \n",
            "_________________________________________________________________\n",
            "dense_8 (Dense)              (None, 3)                 99        \n",
            "=================================================================\n",
            "Total params: 1,050,382\n",
            "Trainable params: 1,049,896\n",
            "Non-trainable params: 486\n",
            "_________________________________________________________________\n"
          ],
          "name": "stdout"
        }
      ]
    },
    {
      "cell_type": "markdown",
      "metadata": {
        "id": "FpHuigayUswV",
        "colab_type": "text"
      },
      "source": [
        ""
      ]
    },
    {
      "cell_type": "code",
      "metadata": {
        "id": "pmUxKmIiKQUr",
        "colab_type": "code",
        "outputId": "c069e7ed-1e1e-4829-cddd-2e8e07d95f03",
        "colab": {
          "base_uri": "https://localhost:8080/",
          "height": 1000
        }
      },
      "source": [
        "model.fit_generator(train_data, validation_data=test_data,steps_per_epoch=20,\n",
        "                    epochs=50)"
      ],
      "execution_count": 16,
      "outputs": [
        {
          "output_type": "stream",
          "text": [
            "Epoch 1/50\n",
            "20/20 [==============================] - 11s 532ms/step - loss: 1.1773 - acc: 0.4391 - val_loss: 1.4411 - val_acc: 0.5153\n",
            "Epoch 2/50\n",
            "20/20 [==============================] - 7s 359ms/step - loss: 1.0424 - acc: 0.5054 - val_loss: 1.3996 - val_acc: 0.2414\n",
            "Epoch 3/50\n",
            "20/20 [==============================] - 8s 408ms/step - loss: 1.0626 - acc: 0.5031 - val_loss: 1.5205 - val_acc: 0.5125\n",
            "Epoch 4/50\n",
            "20/20 [==============================] - 8s 383ms/step - loss: 0.9931 - acc: 0.5266 - val_loss: 1.6040 - val_acc: 0.5051\n",
            "Epoch 5/50\n",
            "20/20 [==============================] - 8s 400ms/step - loss: 0.9945 - acc: 0.5250 - val_loss: 1.6837 - val_acc: 0.4972\n",
            "Epoch 6/50\n",
            "20/20 [==============================] - 8s 388ms/step - loss: 0.9838 - acc: 0.5216 - val_loss: 1.6175 - val_acc: 0.3914\n",
            "Epoch 7/50\n",
            "20/20 [==============================] - 7s 338ms/step - loss: 0.9933 - acc: 0.5320 - val_loss: 1.8731 - val_acc: 0.4861\n",
            "Epoch 8/50\n",
            "20/20 [==============================] - 9s 441ms/step - loss: 0.9686 - acc: 0.5314 - val_loss: 1.8450 - val_acc: 0.5144\n",
            "Epoch 9/50\n",
            "20/20 [==============================] - 8s 391ms/step - loss: 0.9474 - acc: 0.5609 - val_loss: 1.8751 - val_acc: 0.5158\n",
            "Epoch 10/50\n",
            "20/20 [==============================] - 8s 380ms/step - loss: 0.9440 - acc: 0.5510 - val_loss: 1.8806 - val_acc: 0.5135\n",
            "Epoch 11/50\n",
            "20/20 [==============================] - 8s 380ms/step - loss: 0.9177 - acc: 0.5719 - val_loss: 1.4014 - val_acc: 0.2990\n",
            "Epoch 12/50\n",
            "20/20 [==============================] - 8s 379ms/step - loss: 0.9364 - acc: 0.5508 - val_loss: 1.6676 - val_acc: 0.5144\n",
            "Epoch 13/50\n",
            "20/20 [==============================] - 8s 378ms/step - loss: 0.9202 - acc: 0.5755 - val_loss: 1.6918 - val_acc: 0.4359\n",
            "Epoch 14/50\n",
            "20/20 [==============================] - 7s 363ms/step - loss: 0.9215 - acc: 0.5766 - val_loss: 1.7507 - val_acc: 0.5032\n",
            "Epoch 15/50\n",
            "20/20 [==============================] - 8s 409ms/step - loss: 0.9013 - acc: 0.5727 - val_loss: 1.7153 - val_acc: 0.5158\n",
            "Epoch 16/50\n",
            "20/20 [==============================] - 8s 380ms/step - loss: 0.8943 - acc: 0.5687 - val_loss: 1.7233 - val_acc: 0.5195\n",
            "Epoch 17/50\n",
            "20/20 [==============================] - 8s 381ms/step - loss: 0.8897 - acc: 0.5742 - val_loss: 1.6022 - val_acc: 0.5190\n",
            "Epoch 18/50\n",
            "20/20 [==============================] - 8s 383ms/step - loss: 0.8770 - acc: 0.6039 - val_loss: 1.6618 - val_acc: 0.5149\n",
            "Epoch 19/50\n",
            "20/20 [==============================] - 7s 339ms/step - loss: 0.8762 - acc: 0.5974 - val_loss: 1.6901 - val_acc: 0.5135\n",
            "Epoch 20/50\n",
            "20/20 [==============================] - 9s 445ms/step - loss: 0.9077 - acc: 0.5813 - val_loss: 1.6981 - val_acc: 0.5144\n",
            "Epoch 21/50\n",
            "20/20 [==============================] - 8s 381ms/step - loss: 0.8690 - acc: 0.5967 - val_loss: 1.6864 - val_acc: 0.5190\n",
            "Epoch 22/50\n",
            "20/20 [==============================] - 8s 381ms/step - loss: 0.8484 - acc: 0.6281 - val_loss: 1.7069 - val_acc: 0.5204\n",
            "Epoch 23/50\n",
            "20/20 [==============================] - 8s 380ms/step - loss: 0.8790 - acc: 0.6115 - val_loss: 1.6461 - val_acc: 0.5246\n",
            "Epoch 24/50\n",
            "20/20 [==============================] - 8s 385ms/step - loss: 0.8711 - acc: 0.6078 - val_loss: 1.5878 - val_acc: 0.5292\n",
            "Epoch 25/50\n",
            "20/20 [==============================] - 8s 382ms/step - loss: 0.8791 - acc: 0.6055 - val_loss: 1.5620 - val_acc: 0.5330\n",
            "Epoch 26/50\n",
            "20/20 [==============================] - 7s 362ms/step - loss: 0.8592 - acc: 0.6020 - val_loss: 1.5576 - val_acc: 0.5441\n",
            "Epoch 27/50\n",
            "20/20 [==============================] - 8s 408ms/step - loss: 0.8698 - acc: 0.6032 - val_loss: 1.4829 - val_acc: 0.5492\n",
            "Epoch 28/50\n",
            "20/20 [==============================] - 8s 379ms/step - loss: 0.8620 - acc: 0.6172 - val_loss: 1.4775 - val_acc: 0.5395\n",
            "Epoch 29/50\n",
            "20/20 [==============================] - 8s 389ms/step - loss: 0.8605 - acc: 0.6000 - val_loss: 1.5150 - val_acc: 0.5316\n",
            "Epoch 30/50\n",
            "20/20 [==============================] - 8s 381ms/step - loss: 0.8613 - acc: 0.6086 - val_loss: 1.4628 - val_acc: 0.5390\n",
            "Epoch 31/50\n",
            "20/20 [==============================] - 7s 337ms/step - loss: 0.8726 - acc: 0.6102 - val_loss: 1.4324 - val_acc: 0.5399\n",
            "Epoch 32/50\n",
            "20/20 [==============================] - 9s 443ms/step - loss: 0.8677 - acc: 0.6054 - val_loss: 1.3992 - val_acc: 0.5487\n",
            "Epoch 33/50\n",
            "20/20 [==============================] - 8s 380ms/step - loss: 0.8531 - acc: 0.6164 - val_loss: 1.3932 - val_acc: 0.5469\n",
            "Epoch 34/50\n",
            "20/20 [==============================] - 8s 379ms/step - loss: 0.8667 - acc: 0.6156 - val_loss: 1.4223 - val_acc: 0.5306\n",
            "Epoch 35/50\n",
            "20/20 [==============================] - 8s 382ms/step - loss: 0.8647 - acc: 0.5946 - val_loss: 1.4997 - val_acc: 0.5302\n",
            "Epoch 36/50\n",
            "20/20 [==============================] - 8s 383ms/step - loss: 0.8708 - acc: 0.6203 - val_loss: 1.4700 - val_acc: 0.5269\n",
            "Epoch 37/50\n",
            "20/20 [==============================] - 8s 379ms/step - loss: 0.8525 - acc: 0.5992 - val_loss: 1.4736 - val_acc: 0.5269\n",
            "Epoch 38/50\n",
            "20/20 [==============================] - 7s 361ms/step - loss: 0.8575 - acc: 0.6211 - val_loss: 1.4443 - val_acc: 0.5325\n",
            "Epoch 39/50\n",
            "20/20 [==============================] - 8s 411ms/step - loss: 0.8631 - acc: 0.6199 - val_loss: 1.4259 - val_acc: 0.5371\n",
            "Epoch 40/50\n",
            "20/20 [==============================] - 8s 382ms/step - loss: 0.8444 - acc: 0.6203 - val_loss: 1.4296 - val_acc: 0.5362\n",
            "Epoch 41/50\n",
            "20/20 [==============================] - 8s 381ms/step - loss: 0.8507 - acc: 0.5984 - val_loss: 1.5357 - val_acc: 0.5367\n",
            "Epoch 42/50\n",
            "20/20 [==============================] - 8s 380ms/step - loss: 0.8389 - acc: 0.6238 - val_loss: 1.6109 - val_acc: 0.5283\n",
            "Epoch 43/50\n",
            "20/20 [==============================] - 7s 339ms/step - loss: 0.8479 - acc: 0.6016 - val_loss: 1.5673 - val_acc: 0.5422\n",
            "Epoch 44/50\n",
            "20/20 [==============================] - 9s 449ms/step - loss: 0.8383 - acc: 0.6305 - val_loss: 1.5478 - val_acc: 0.5292\n",
            "Epoch 45/50\n",
            "20/20 [==============================] - 8s 399ms/step - loss: 0.8394 - acc: 0.6289 - val_loss: 1.5722 - val_acc: 0.5334\n",
            "Epoch 46/50\n",
            "20/20 [==============================] - 8s 405ms/step - loss: 0.8135 - acc: 0.6357 - val_loss: 1.5619 - val_acc: 0.5413\n",
            "Epoch 47/50\n",
            "20/20 [==============================] - 8s 382ms/step - loss: 0.8244 - acc: 0.6234 - val_loss: 1.6077 - val_acc: 0.5455\n",
            "Epoch 48/50\n",
            "20/20 [==============================] - 8s 401ms/step - loss: 0.8495 - acc: 0.6164 - val_loss: 1.6402 - val_acc: 0.5306\n",
            "Epoch 49/50\n",
            "20/20 [==============================] - 8s 409ms/step - loss: 0.8339 - acc: 0.6289 - val_loss: 1.7079 - val_acc: 0.5339\n",
            "Epoch 50/50\n",
            "20/20 [==============================] - 7s 374ms/step - loss: 0.8441 - acc: 0.6133 - val_loss: 1.7013 - val_acc: 0.5288\n"
          ],
          "name": "stdout"
        },
        {
          "output_type": "execute_result",
          "data": {
            "text/plain": [
              "<keras.callbacks.History at 0x7fe8f7e4a3c8>"
            ]
          },
          "metadata": {
            "tags": []
          },
          "execution_count": 16
        }
      ]
    },
    {
      "cell_type": "code",
      "metadata": {
        "id": "PgKBudPAvOzj",
        "colab_type": "code",
        "colab": {}
      },
      "source": [
        ""
      ],
      "execution_count": 0,
      "outputs": []
    },
    {
      "cell_type": "code",
      "metadata": {
        "id": "D2lJiacyKiV2",
        "colab_type": "code",
        "colab": {}
      },
      "source": [
        "score  = model.evaluate_generator(test_data, \n",
        "                                  steps = 100)"
      ],
      "execution_count": 0,
      "outputs": []
    },
    {
      "cell_type": "code",
      "metadata": {
        "id": "gR0zZgYxvXQR",
        "colab_type": "code",
        "colab": {
          "base_uri": "https://localhost:8080/",
          "height": 54
        },
        "outputId": "6e0fd4ab-6fc5-452c-9d20-997f90e9f9d4"
      },
      "source": [
        "print(\"Accuracyloss:-\", score[0])\n",
        "print(\"AccuracyScore\",score[1] )"
      ],
      "execution_count": 18,
      "outputs": [
        {
          "output_type": "stream",
          "text": [
            "Accuracyloss:- 1.7008489916878275\n",
            "AccuracyScore 0.5302076778035257\n"
          ],
          "name": "stdout"
        }
      ]
    },
    {
      "cell_type": "code",
      "metadata": {
        "id": "L4oMBaw2vYXO",
        "colab_type": "code",
        "colab": {}
      },
      "source": [
        ""
      ],
      "execution_count": 0,
      "outputs": []
    }
  ]
}