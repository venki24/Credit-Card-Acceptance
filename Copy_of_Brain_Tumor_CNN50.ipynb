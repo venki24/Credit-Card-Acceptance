{
  "nbformat": 4,
  "nbformat_minor": 0,
  "metadata": {
    "colab": {
      "name": "Copy of Brain Tumor CNN.ipynb",
      "provenance": [],
      "collapsed_sections": [],
      "include_colab_link": true
    },
    "kernelspec": {
      "name": "python3",
      "display_name": "Python 3"
    },
    "accelerator": "GPU"
  },
  "cells": [
    {
      "cell_type": "markdown",
      "metadata": {
        "id": "view-in-github",
        "colab_type": "text"
      },
      "source": [
        "<a href=\"https://colab.research.google.com/github/venki24/Credit-Card-Acceptance/blob/master/Copy_of_Brain_Tumor_CNN50.ipynb\" target=\"_parent\"><img src=\"https://colab.research.google.com/assets/colab-badge.svg\" alt=\"Open In Colab\"/></a>"
      ]
    },
    {
      "cell_type": "code",
      "metadata": {
        "id": "3gqvnPrDFZmx",
        "colab_type": "code",
        "outputId": "6458744f-e0c6-460e-df63-e5f21d49d72a",
        "colab": {
          "base_uri": "https://localhost:8080/",
          "height": 83
        }
      },
      "source": [
        "import tensorflow as tf\n",
        "tf.test.gpu_device_name()"
      ],
      "execution_count": 1,
      "outputs": [
        {
          "output_type": "display_data",
          "data": {
            "text/html": [
              "<p style=\"color: red;\">\n",
              "The default version of TensorFlow in Colab will soon switch to TensorFlow 2.x.<br>\n",
              "We recommend you <a href=\"https://www.tensorflow.org/guide/migrate\" target=\"_blank\">upgrade</a> now \n",
              "or ensure your notebook will continue to use TensorFlow 1.x via the <code>%tensorflow_version 1.x</code> magic:\n",
              "<a href=\"https://colab.research.google.com/notebooks/tensorflow_version.ipynb\" target=\"_blank\">more info</a>.</p>\n"
            ],
            "text/plain": [
              "<IPython.core.display.HTML object>"
            ]
          },
          "metadata": {
            "tags": []
          }
        },
        {
          "output_type": "execute_result",
          "data": {
            "text/plain": [
              "'/device:GPU:0'"
            ]
          },
          "metadata": {
            "tags": []
          },
          "execution_count": 1
        }
      ]
    },
    {
      "cell_type": "code",
      "metadata": {
        "id": "y4iXr8TlFlSr",
        "colab_type": "code",
        "colab": {
          "base_uri": "https://localhost:8080/",
          "height": 35
        },
        "outputId": "96670f35-1d5a-4ce4-f5cf-e8d8236237f3"
      },
      "source": [
        "from google.colab import drive\n",
        "drive.mount('/content/drive')"
      ],
      "execution_count": 2,
      "outputs": [
        {
          "output_type": "stream",
          "text": [
            "Drive already mounted at /content/drive; to attempt to forcibly remount, call drive.mount(\"/content/drive\", force_remount=True).\n"
          ],
          "name": "stdout"
        }
      ]
    },
    {
      "cell_type": "code",
      "metadata": {
        "id": "ch2k55ClFoV-",
        "colab_type": "code",
        "outputId": "e736cbe3-dade-4986-fc50-8d1158b1319f",
        "colab": {
          "base_uri": "https://localhost:8080/",
          "height": 35
        }
      },
      "source": [
        "import keras \n",
        "from keras.models import Sequential\n",
        "from keras.layers import Dropout,Conv2D,Activation,MaxPool2D,Dense,Flatten,BatchNormalization,ZeroPadding2D\n",
        "from keras.optimizers import Adam,SGD,RMSprop\n",
        "from keras.preprocessing import image\n",
        "import warnings\n",
        "warnings.filterwarnings('ignore')"
      ],
      "execution_count": 3,
      "outputs": [
        {
          "output_type": "stream",
          "text": [
            "Using TensorFlow backend.\n"
          ],
          "name": "stderr"
        }
      ]
    },
    {
      "cell_type": "code",
      "metadata": {
        "id": "VBpPsdHFIUyO",
        "colab_type": "code",
        "colab": {}
      },
      "source": [
        "train_gen = image.ImageDataGenerator(rescale = 1./255,\n",
        "                                    featurewise_center=True, \n",
        "                                    samplewise_center=True, \n",
        "                                    featurewise_std_normalization=True, \n",
        "                                    samplewise_std_normalization=True, \n",
        "                                    zca_whitening=False, zca_epsilon=1e-06, \n",
        "                                    rotation_range=40, width_shift_range=0.0,\n",
        "                                    height_shift_range=0.0, brightness_range=(0.2, 0.2),\n",
        "                                    shear_range=0.2, zoom_range=0.2, \n",
        "                                    channel_shift_range=0.0, fill_mode='nearest', \n",
        "                                    cval=0.0, horizontal_flip=True, vertical_flip=True,\n",
        "                                    data_format=None, validation_split=0.0, dtype=None)\n",
        "test_gen = image.ImageDataGenerator(rescale = 1./255,\n",
        "                                    featurewise_center=True, \n",
        "                                    samplewise_center=True, \n",
        "                                    featurewise_std_normalization=True, \n",
        "                                    samplewise_std_normalization=True, \n",
        "                                    zca_whitening=False, zca_epsilon=1e-06, \n",
        "                                    rotation_range=40, width_shift_range=0.0,\n",
        "                                    height_shift_range=0.0, brightness_range=(0.2, 0.2),\n",
        "                                    shear_range=0.2, zoom_range=0.2, \n",
        "                                    channel_shift_range=0.0, fill_mode='nearest', \n",
        "                                    cval=0.0, horizontal_flip=True, vertical_flip=True,\n",
        "                                    data_format=None, validation_split=0.0, dtype=None)\n",
        "val_gen = image.ImageDataGenerator(rescale = 1./255,\n",
        "                                    featurewise_center=True, \n",
        "                                    samplewise_center=True, \n",
        "                                    featurewise_std_normalization=True, \n",
        "                                    samplewise_std_normalization=True, \n",
        "                                    zca_whitening=False, zca_epsilon=1e-06, \n",
        "                                    rotation_range=40, width_shift_range=0.0,\n",
        "                                    height_shift_range=0.0, brightness_range=(0.2, 0.2),\n",
        "                                    shear_range=0.2, zoom_range=0.2, \n",
        "                                    channel_shift_range=0.0, fill_mode='nearest', \n",
        "                                    cval=0.0, horizontal_flip=True, vertical_flip=True,\n",
        "                                    data_format=None, validation_split=0.0, dtype=None)"
      ],
      "execution_count": 0,
      "outputs": []
    },
    {
      "cell_type": "code",
      "metadata": {
        "id": "j_EvmKJ9I1uz",
        "colab_type": "code",
        "outputId": "586567ad-27c9-44ab-cf37-01f3d55b65fa",
        "colab": {
          "base_uri": "https://localhost:8080/",
          "height": 35
        }
      },
      "source": [
        "train_data=train_gen.flow_from_directory('/content/drive/My Drive/dataset/train',target_size=(32,32,), \n",
        "                                         class_mode='categorical',\n",
        "                                         classes=['glioma','meling','pitutary'],\n",
        "                                         batch_size=64,seed=1)"
      ],
      "execution_count": 5,
      "outputs": [
        {
          "output_type": "stream",
          "text": [
            "Found 3064 images belonging to 3 classes.\n"
          ],
          "name": "stdout"
        }
      ]
    },
    {
      "cell_type": "code",
      "metadata": {
        "id": "3tGeEihDJ0Q0",
        "colab_type": "code",
        "outputId": "ee1531de-bac2-4310-e2ee-5b588545ec83",
        "colab": {
          "base_uri": "https://localhost:8080/",
          "height": 35
        }
      },
      "source": [
        "test_data=test_gen.flow_from_directory('/content/drive/My Drive/dataset/test',target_size=(32,32,), \n",
        "                                         class_mode='categorical',\n",
        "                                         classes=['glioma','meling','pitutary'],\n",
        "                                         batch_size=64,seed=1)"
      ],
      "execution_count": 6,
      "outputs": [
        {
          "output_type": "stream",
          "text": [
            "Found 2154 images belonging to 3 classes.\n"
          ],
          "name": "stdout"
        }
      ]
    },
    {
      "cell_type": "code",
      "metadata": {
        "id": "v0hjwmt7KBVv",
        "colab_type": "code",
        "outputId": "183eddc2-0ebd-4b87-9d6b-d3ce69b4b71e",
        "colab": {
          "base_uri": "https://localhost:8080/",
          "height": 1000
        }
      },
      "source": [
        "#Model\n",
        "model = Sequential()\n",
        "\n",
        "#CONV1\n",
        "model.add(ZeroPadding2D(padding = (2, 2), input_shape= (32, 32, 3)))\n",
        "model.add(Conv2D(5, kernel_size=(3, 3), strides=(1, 1), padding='SAME',\n",
        "                 activation =  'relu'))\n",
        "model.add(MaxPool2D(pool_size=(2, 2), strides=(1, 1), padding = 'SAME'))\n",
        "model.add(BatchNormalization(axis = -1))\n",
        "model.add(Dropout(0.3))\n",
        "\n",
        "#CONV2\n",
        "model.add(ZeroPadding2D(padding = (2, 2)))\n",
        "model.add(Conv2D(5, kernel_size=(3, 3), strides=(1, 1), padding='SAME',\n",
        "                 activation =  'relu'))\n",
        "model.add(MaxPool2D(pool_size=(2, 2), strides=(1, 1), padding = 'SAME'))\n",
        "model.add(BatchNormalization(axis = -1))\n",
        "model.add(Dropout(0.3))\n",
        "\n",
        "#CONV3\n",
        "model.add(ZeroPadding2D(padding = (2, 2)))\n",
        "model.add(Conv2D(3, kernel_size=(2, 2), strides=(1, 1), padding='SAME',\n",
        "                 activation =  'relu'))\n",
        "model.add(MaxPool2D(pool_size=(2, 2), strides=(1, 1), padding = 'SAME'))\n",
        "model.add(BatchNormalization(axis = -1))\n",
        "model.add(Dropout(0.3))\n",
        "\n",
        "#CONV4\n",
        "model.add(ZeroPadding2D(padding = (2, 2)))\n",
        "model.add(Conv2D(3, kernel_size=(2, 2), strides=(1, 1), padding='SAME',\n",
        "                 activation =  'relu'))\n",
        "model.add(MaxPool2D(pool_size=(2, 2), strides=(1, 1), padding = 'SAME'))\n",
        "model.add(BatchNormalization(axis = -1))\n",
        "model.add(Dropout(0.2))\n",
        "\n",
        "#CONV5\n",
        "model.add(ZeroPadding2D(padding = (2, 2)))\n",
        "model.add(Conv2D(3, kernel_size=(2, 2), strides=(1, 1), padding='SAME',\n",
        "                 activation =  'relu'))\n",
        "model.add(MaxPool2D(pool_size=(2, 2), strides=(1, 1), padding = 'SAME'))\n",
        "model.add(BatchNormalization(axis = -1))\n",
        "model.add(Dropout(0.5))\n",
        "\n",
        "#FLATTEN\n",
        "model.add(Flatten())\n",
        "\n",
        "#Dense1\n",
        "model.add(Dense(128, activation='relu'))\n",
        "model.add(BatchNormalization(axis = -1))\n",
        "model.add(Dropout(0.2))\n",
        "\n",
        "#Dense2\n",
        "model.add(Dense(64, activation='relu'))\n",
        "model.add(BatchNormalization(axis = -1))\n",
        "model.add(Dropout(0.3))\n",
        "\n",
        "#Dense3\n",
        "model.add(Dense(32, activation='relu'))\n",
        "model.add(BatchNormalization(axis = -1))\n",
        "model.add(Dropout(0.5))\n",
        "\n",
        "#Dense4\n",
        "model.add(Dense(3, activation='sigmoid'))\n",
        "\n",
        "#model summary\n",
        "model.summary()\n",
        "\n",
        "#Optimizers\n",
        "Ad = Adam(lr = 0.01)\n",
        "#Compile Model\n",
        "model.compile(optimizer = Ad,\n",
        "              loss = 'categorical_crossentropy',\n",
        "              metrics=['accuracy'])"
      ],
      "execution_count": 7,
      "outputs": [
        {
          "output_type": "stream",
          "text": [
            "WARNING:tensorflow:From /usr/local/lib/python3.6/dist-packages/keras/backend/tensorflow_backend.py:66: The name tf.get_default_graph is deprecated. Please use tf.compat.v1.get_default_graph instead.\n",
            "\n",
            "WARNING:tensorflow:From /usr/local/lib/python3.6/dist-packages/keras/backend/tensorflow_backend.py:541: The name tf.placeholder is deprecated. Please use tf.compat.v1.placeholder instead.\n",
            "\n",
            "WARNING:tensorflow:From /usr/local/lib/python3.6/dist-packages/keras/backend/tensorflow_backend.py:4432: The name tf.random_uniform is deprecated. Please use tf.random.uniform instead.\n",
            "\n",
            "WARNING:tensorflow:From /usr/local/lib/python3.6/dist-packages/keras/backend/tensorflow_backend.py:4267: The name tf.nn.max_pool is deprecated. Please use tf.nn.max_pool2d instead.\n",
            "\n",
            "WARNING:tensorflow:From /usr/local/lib/python3.6/dist-packages/keras/backend/tensorflow_backend.py:190: The name tf.get_default_session is deprecated. Please use tf.compat.v1.get_default_session instead.\n",
            "\n",
            "WARNING:tensorflow:From /usr/local/lib/python3.6/dist-packages/keras/backend/tensorflow_backend.py:197: The name tf.ConfigProto is deprecated. Please use tf.compat.v1.ConfigProto instead.\n",
            "\n",
            "WARNING:tensorflow:From /usr/local/lib/python3.6/dist-packages/keras/backend/tensorflow_backend.py:203: The name tf.Session is deprecated. Please use tf.compat.v1.Session instead.\n",
            "\n",
            "WARNING:tensorflow:From /usr/local/lib/python3.6/dist-packages/keras/backend/tensorflow_backend.py:207: The name tf.global_variables is deprecated. Please use tf.compat.v1.global_variables instead.\n",
            "\n",
            "WARNING:tensorflow:From /usr/local/lib/python3.6/dist-packages/keras/backend/tensorflow_backend.py:216: The name tf.is_variable_initialized is deprecated. Please use tf.compat.v1.is_variable_initialized instead.\n",
            "\n",
            "WARNING:tensorflow:From /usr/local/lib/python3.6/dist-packages/keras/backend/tensorflow_backend.py:223: The name tf.variables_initializer is deprecated. Please use tf.compat.v1.variables_initializer instead.\n",
            "\n",
            "WARNING:tensorflow:From /usr/local/lib/python3.6/dist-packages/keras/backend/tensorflow_backend.py:2041: The name tf.nn.fused_batch_norm is deprecated. Please use tf.compat.v1.nn.fused_batch_norm instead.\n",
            "\n",
            "WARNING:tensorflow:From /usr/local/lib/python3.6/dist-packages/keras/backend/tensorflow_backend.py:148: The name tf.placeholder_with_default is deprecated. Please use tf.compat.v1.placeholder_with_default instead.\n",
            "\n",
            "WARNING:tensorflow:From /usr/local/lib/python3.6/dist-packages/keras/backend/tensorflow_backend.py:3733: calling dropout (from tensorflow.python.ops.nn_ops) with keep_prob is deprecated and will be removed in a future version.\n",
            "Instructions for updating:\n",
            "Please use `rate` instead of `keep_prob`. Rate should be set to `rate = 1 - keep_prob`.\n",
            "Model: \"sequential_1\"\n",
            "_________________________________________________________________\n",
            "Layer (type)                 Output Shape              Param #   \n",
            "=================================================================\n",
            "zero_padding2d_1 (ZeroPaddin (None, 36, 36, 3)         0         \n",
            "_________________________________________________________________\n",
            "conv2d_1 (Conv2D)            (None, 36, 36, 5)         140       \n",
            "_________________________________________________________________\n",
            "max_pooling2d_1 (MaxPooling2 (None, 36, 36, 5)         0         \n",
            "_________________________________________________________________\n",
            "batch_normalization_1 (Batch (None, 36, 36, 5)         20        \n",
            "_________________________________________________________________\n",
            "dropout_1 (Dropout)          (None, 36, 36, 5)         0         \n",
            "_________________________________________________________________\n",
            "zero_padding2d_2 (ZeroPaddin (None, 40, 40, 5)         0         \n",
            "_________________________________________________________________\n",
            "conv2d_2 (Conv2D)            (None, 40, 40, 5)         230       \n",
            "_________________________________________________________________\n",
            "max_pooling2d_2 (MaxPooling2 (None, 40, 40, 5)         0         \n",
            "_________________________________________________________________\n",
            "batch_normalization_2 (Batch (None, 40, 40, 5)         20        \n",
            "_________________________________________________________________\n",
            "dropout_2 (Dropout)          (None, 40, 40, 5)         0         \n",
            "_________________________________________________________________\n",
            "zero_padding2d_3 (ZeroPaddin (None, 44, 44, 5)         0         \n",
            "_________________________________________________________________\n",
            "conv2d_3 (Conv2D)            (None, 44, 44, 3)         63        \n",
            "_________________________________________________________________\n",
            "max_pooling2d_3 (MaxPooling2 (None, 44, 44, 3)         0         \n",
            "_________________________________________________________________\n",
            "batch_normalization_3 (Batch (None, 44, 44, 3)         12        \n",
            "_________________________________________________________________\n",
            "dropout_3 (Dropout)          (None, 44, 44, 3)         0         \n",
            "_________________________________________________________________\n",
            "zero_padding2d_4 (ZeroPaddin (None, 48, 48, 3)         0         \n",
            "_________________________________________________________________\n",
            "conv2d_4 (Conv2D)            (None, 48, 48, 3)         39        \n",
            "_________________________________________________________________\n",
            "max_pooling2d_4 (MaxPooling2 (None, 48, 48, 3)         0         \n",
            "_________________________________________________________________\n",
            "batch_normalization_4 (Batch (None, 48, 48, 3)         12        \n",
            "_________________________________________________________________\n",
            "dropout_4 (Dropout)          (None, 48, 48, 3)         0         \n",
            "_________________________________________________________________\n",
            "zero_padding2d_5 (ZeroPaddin (None, 52, 52, 3)         0         \n",
            "_________________________________________________________________\n",
            "conv2d_5 (Conv2D)            (None, 52, 52, 3)         39        \n",
            "_________________________________________________________________\n",
            "max_pooling2d_5 (MaxPooling2 (None, 52, 52, 3)         0         \n",
            "_________________________________________________________________\n",
            "batch_normalization_5 (Batch (None, 52, 52, 3)         12        \n",
            "_________________________________________________________________\n",
            "dropout_5 (Dropout)          (None, 52, 52, 3)         0         \n",
            "_________________________________________________________________\n",
            "flatten_1 (Flatten)          (None, 8112)              0         \n",
            "_________________________________________________________________\n",
            "dense_1 (Dense)              (None, 128)               1038464   \n",
            "_________________________________________________________________\n",
            "batch_normalization_6 (Batch (None, 128)               512       \n",
            "_________________________________________________________________\n",
            "dropout_6 (Dropout)          (None, 128)               0         \n",
            "_________________________________________________________________\n",
            "dense_2 (Dense)              (None, 64)                8256      \n",
            "_________________________________________________________________\n",
            "batch_normalization_7 (Batch (None, 64)                256       \n",
            "_________________________________________________________________\n",
            "dropout_7 (Dropout)          (None, 64)                0         \n",
            "_________________________________________________________________\n",
            "dense_3 (Dense)              (None, 32)                2080      \n",
            "_________________________________________________________________\n",
            "batch_normalization_8 (Batch (None, 32)                128       \n",
            "_________________________________________________________________\n",
            "dropout_8 (Dropout)          (None, 32)                0         \n",
            "_________________________________________________________________\n",
            "dense_4 (Dense)              (None, 3)                 99        \n",
            "=================================================================\n",
            "Total params: 1,050,382\n",
            "Trainable params: 1,049,896\n",
            "Non-trainable params: 486\n",
            "_________________________________________________________________\n",
            "WARNING:tensorflow:From /usr/local/lib/python3.6/dist-packages/keras/optimizers.py:793: The name tf.train.Optimizer is deprecated. Please use tf.compat.v1.train.Optimizer instead.\n",
            "\n",
            "WARNING:tensorflow:From /usr/local/lib/python3.6/dist-packages/keras/backend/tensorflow_backend.py:3576: The name tf.log is deprecated. Please use tf.math.log instead.\n",
            "\n"
          ],
          "name": "stdout"
        }
      ]
    },
    {
      "cell_type": "markdown",
      "metadata": {
        "id": "FpHuigayUswV",
        "colab_type": "text"
      },
      "source": [
        ""
      ]
    },
    {
      "cell_type": "code",
      "metadata": {
        "id": "pmUxKmIiKQUr",
        "colab_type": "code",
        "outputId": "6feaea39-4393-441e-ec78-372189d9dedf",
        "colab": {
          "base_uri": "https://localhost:8080/",
          "height": 1000
        }
      },
      "source": [
        "model.fit_generator(train_data, validation_data=test_data,steps_per_epoch=20,\n",
        "                    epochs=50)"
      ],
      "execution_count": 12,
      "outputs": [
        {
          "output_type": "stream",
          "text": [
            "Epoch 1/50\n",
            "20/20 [==============================] - 9s 468ms/step - loss: 0.9114 - acc: 0.5905 - val_loss: 1.6033 - val_acc: 0.4178\n",
            "Epoch 2/50\n",
            "20/20 [==============================] - 7s 358ms/step - loss: 0.8893 - acc: 0.6086 - val_loss: 1.5226 - val_acc: 0.5097\n",
            "Epoch 3/50\n",
            "20/20 [==============================] - 8s 407ms/step - loss: 0.8869 - acc: 0.5977 - val_loss: 1.4271 - val_acc: 0.5079\n",
            "Epoch 4/50\n",
            "20/20 [==============================] - 8s 384ms/step - loss: 0.8841 - acc: 0.5999 - val_loss: 1.5709 - val_acc: 0.5037\n",
            "Epoch 5/50\n",
            "20/20 [==============================] - 8s 384ms/step - loss: 0.8601 - acc: 0.6148 - val_loss: 1.5952 - val_acc: 0.5023\n",
            "Epoch 6/50\n",
            "20/20 [==============================] - 8s 383ms/step - loss: 0.8547 - acc: 0.6035 - val_loss: 1.1362 - val_acc: 0.5678\n",
            "Epoch 7/50\n",
            "20/20 [==============================] - 7s 337ms/step - loss: 0.8579 - acc: 0.5875 - val_loss: 1.2499 - val_acc: 0.5279\n",
            "Epoch 8/50\n",
            "20/20 [==============================] - 9s 443ms/step - loss: 0.8449 - acc: 0.6242 - val_loss: 1.2547 - val_acc: 0.5492\n",
            "Epoch 9/50\n",
            "20/20 [==============================] - 8s 380ms/step - loss: 0.8649 - acc: 0.5979 - val_loss: 1.0899 - val_acc: 0.5822\n",
            "Epoch 10/50\n",
            "20/20 [==============================] - 8s 381ms/step - loss: 0.8619 - acc: 0.6109 - val_loss: 1.0960 - val_acc: 0.5840\n",
            "Epoch 11/50\n",
            "20/20 [==============================] - 8s 383ms/step - loss: 0.8208 - acc: 0.6289 - val_loss: 1.1625 - val_acc: 0.5789\n",
            "Epoch 12/50\n",
            "20/20 [==============================] - 8s 378ms/step - loss: 0.8506 - acc: 0.6188 - val_loss: 1.3941 - val_acc: 0.5580\n",
            "Epoch 13/50\n",
            "20/20 [==============================] - 8s 380ms/step - loss: 0.8370 - acc: 0.6141 - val_loss: 1.4891 - val_acc: 0.5641\n",
            "Epoch 14/50\n",
            "20/20 [==============================] - 7s 362ms/step - loss: 0.8365 - acc: 0.6238 - val_loss: 1.6707 - val_acc: 0.5576\n",
            "Epoch 15/50\n",
            "20/20 [==============================] - 8s 407ms/step - loss: 0.8096 - acc: 0.6389 - val_loss: 1.4964 - val_acc: 0.5678\n",
            "Epoch 16/50\n",
            "20/20 [==============================] - 8s 387ms/step - loss: 0.8248 - acc: 0.6188 - val_loss: 1.3293 - val_acc: 0.5641\n",
            "Epoch 17/50\n",
            "20/20 [==============================] - 8s 390ms/step - loss: 0.8336 - acc: 0.6336 - val_loss: 1.2447 - val_acc: 0.5766\n",
            "Epoch 18/50\n",
            "20/20 [==============================] - 8s 401ms/step - loss: 0.8091 - acc: 0.6461 - val_loss: 1.1902 - val_acc: 0.5339\n",
            "Epoch 19/50\n",
            "20/20 [==============================] - 7s 333ms/step - loss: 0.8581 - acc: 0.6125 - val_loss: 1.2813 - val_acc: 0.5330\n",
            "Epoch 20/50\n",
            "20/20 [==============================] - 9s 440ms/step - loss: 0.8199 - acc: 0.6313 - val_loss: 1.2448 - val_acc: 0.4545\n",
            "Epoch 21/50\n",
            "20/20 [==============================] - 8s 379ms/step - loss: 0.8198 - acc: 0.6109 - val_loss: 1.2720 - val_acc: 0.4452\n",
            "Epoch 22/50\n",
            "20/20 [==============================] - 8s 376ms/step - loss: 0.7878 - acc: 0.6569 - val_loss: 1.3862 - val_acc: 0.4851\n",
            "Epoch 23/50\n",
            "20/20 [==============================] - 8s 383ms/step - loss: 0.8076 - acc: 0.6289 - val_loss: 1.3600 - val_acc: 0.5418\n",
            "Epoch 24/50\n",
            "20/20 [==============================] - 8s 383ms/step - loss: 0.8010 - acc: 0.6297 - val_loss: 1.2067 - val_acc: 0.4424\n",
            "Epoch 25/50\n",
            "20/20 [==============================] - 8s 378ms/step - loss: 0.8029 - acc: 0.6443 - val_loss: 1.2577 - val_acc: 0.4369\n",
            "Epoch 26/50\n",
            "20/20 [==============================] - 7s 362ms/step - loss: 0.8123 - acc: 0.6305 - val_loss: 2.0394 - val_acc: 0.5111\n",
            "Epoch 27/50\n",
            "20/20 [==============================] - 8s 414ms/step - loss: 0.7813 - acc: 0.6453 - val_loss: 1.6604 - val_acc: 0.5162\n",
            "Epoch 28/50\n",
            "20/20 [==============================] - 8s 383ms/step - loss: 0.8146 - acc: 0.6328 - val_loss: 2.6116 - val_acc: 0.5195\n",
            "Epoch 29/50\n",
            "20/20 [==============================] - 8s 383ms/step - loss: 0.8158 - acc: 0.6288 - val_loss: 2.4619 - val_acc: 0.5139\n",
            "Epoch 30/50\n",
            "20/20 [==============================] - 8s 384ms/step - loss: 0.7534 - acc: 0.6719 - val_loss: 1.7116 - val_acc: 0.5409\n",
            "Epoch 31/50\n",
            "20/20 [==============================] - 7s 339ms/step - loss: 0.7755 - acc: 0.6620 - val_loss: 1.5153 - val_acc: 0.5432\n",
            "Epoch 32/50\n",
            "20/20 [==============================] - 9s 435ms/step - loss: 0.7665 - acc: 0.6523 - val_loss: 1.3445 - val_acc: 0.5669\n",
            "Epoch 33/50\n",
            "20/20 [==============================] - 8s 377ms/step - loss: 0.7559 - acc: 0.6727 - val_loss: 1.2420 - val_acc: 0.5669\n",
            "Epoch 34/50\n",
            "20/20 [==============================] - 8s 381ms/step - loss: 0.7705 - acc: 0.6501 - val_loss: 1.1528 - val_acc: 0.5385\n",
            "Epoch 35/50\n",
            "20/20 [==============================] - 8s 380ms/step - loss: 0.7564 - acc: 0.6687 - val_loss: 1.3513 - val_acc: 0.5353\n",
            "Epoch 36/50\n",
            "20/20 [==============================] - 8s 379ms/step - loss: 0.7213 - acc: 0.6798 - val_loss: 1.4880 - val_acc: 0.4652\n",
            "Epoch 37/50\n",
            "20/20 [==============================] - 8s 386ms/step - loss: 0.7450 - acc: 0.6706 - val_loss: 1.7118 - val_acc: 0.4355\n",
            "Epoch 38/50\n",
            "20/20 [==============================] - 7s 361ms/step - loss: 0.7253 - acc: 0.6781 - val_loss: 1.7618 - val_acc: 0.3570\n",
            "Epoch 39/50\n",
            "20/20 [==============================] - 8s 406ms/step - loss: 0.7361 - acc: 0.6828 - val_loss: 1.5395 - val_acc: 0.4694\n",
            "Epoch 40/50\n",
            "20/20 [==============================] - 8s 381ms/step - loss: 0.7021 - acc: 0.7010 - val_loss: 2.0298 - val_acc: 0.3900\n",
            "Epoch 41/50\n",
            "20/20 [==============================] - 8s 378ms/step - loss: 0.7162 - acc: 0.6797 - val_loss: 2.4321 - val_acc: 0.4777\n",
            "Epoch 42/50\n",
            "20/20 [==============================] - 8s 381ms/step - loss: 0.7432 - acc: 0.6782 - val_loss: 1.9560 - val_acc: 0.4434\n",
            "Epoch 43/50\n",
            "20/20 [==============================] - 7s 330ms/step - loss: 0.7338 - acc: 0.6742 - val_loss: 2.5311 - val_acc: 0.3361\n",
            "Epoch 44/50\n",
            "20/20 [==============================] - 9s 444ms/step - loss: 0.6948 - acc: 0.6899 - val_loss: 2.7524 - val_acc: 0.2646\n",
            "Epoch 45/50\n",
            "20/20 [==============================] - 8s 378ms/step - loss: 0.7462 - acc: 0.6727 - val_loss: 1.7148 - val_acc: 0.3575\n",
            "Epoch 46/50\n",
            "20/20 [==============================] - 8s 381ms/step - loss: 0.7253 - acc: 0.6781 - val_loss: 1.6034 - val_acc: 0.4986\n",
            "Epoch 47/50\n",
            "20/20 [==============================] - 8s 385ms/step - loss: 0.7111 - acc: 0.6727 - val_loss: 2.4924 - val_acc: 0.4680\n",
            "Epoch 48/50\n",
            "20/20 [==============================] - 8s 383ms/step - loss: 0.7214 - acc: 0.6881 - val_loss: 2.1267 - val_acc: 0.2999\n",
            "Epoch 49/50\n",
            "20/20 [==============================] - 8s 381ms/step - loss: 0.6892 - acc: 0.7055 - val_loss: 1.9168 - val_acc: 0.3254\n",
            "Epoch 50/50\n",
            "20/20 [==============================] - 7s 362ms/step - loss: 0.7451 - acc: 0.6634 - val_loss: 2.3368 - val_acc: 0.2818\n"
          ],
          "name": "stdout"
        },
        {
          "output_type": "execute_result",
          "data": {
            "text/plain": [
              "<keras.callbacks.History at 0x7fe8f7e5acf8>"
            ]
          },
          "metadata": {
            "tags": []
          },
          "execution_count": 12
        }
      ]
    },
    {
      "cell_type": "code",
      "metadata": {
        "id": "PgKBudPAvOzj",
        "colab_type": "code",
        "colab": {}
      },
      "source": [
        ""
      ],
      "execution_count": 0,
      "outputs": []
    },
    {
      "cell_type": "code",
      "metadata": {
        "id": "D2lJiacyKiV2",
        "colab_type": "code",
        "colab": {}
      },
      "source": [
        "score  = model.evaluate_generator(test_data, \n",
        "                                  steps = 100)"
      ],
      "execution_count": 0,
      "outputs": []
    },
    {
      "cell_type": "code",
      "metadata": {
        "id": "gR0zZgYxvXQR",
        "colab_type": "code",
        "colab": {
          "base_uri": "https://localhost:8080/",
          "height": 54
        },
        "outputId": "12b85c00-7253-41a8-9066-a0247ad81c26"
      },
      "source": [
        "print(\"Accuracyloss:-\", score[0])\n",
        "print(\"AccuracyScore\",score[1] )"
      ],
      "execution_count": 14,
      "outputs": [
        {
          "output_type": "stream",
          "text": [
            "Accuracyloss:- 2.3662577954532966\n",
            "AccuracyScore 0.27658904981526883\n"
          ],
          "name": "stdout"
        }
      ]
    },
    {
      "cell_type": "code",
      "metadata": {
        "id": "L4oMBaw2vYXO",
        "colab_type": "code",
        "colab": {}
      },
      "source": [
        ""
      ],
      "execution_count": 0,
      "outputs": []
    }
  ]
}